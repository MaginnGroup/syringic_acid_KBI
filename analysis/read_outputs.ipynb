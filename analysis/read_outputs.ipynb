{
 "cells": [
  {
   "cell_type": "code",
   "execution_count": 5,
   "metadata": {},
   "outputs": [],
   "source": [
    "import numpy as np\n",
    "from scipy.ndimage import gaussian_filter1d\n",
    "from scipy import integrate\n",
    "from scipy import stats\n",
    "\n",
    "tinv = lambda p, df: abs(stats.t.ppf(p/2, df))\n",
    "systems = [3]"
   ]
  },
  {
   "cell_type": "code",
   "execution_count": 6,
   "metadata": {},
   "outputs": [],
   "source": [
    "from io import StringIO\n",
    "\n",
    "def open_file(file):\n",
    "    with open(file) as f:\n",
    "        lines = f.readlines()\n",
    "        d = StringIO(lines[-1][38:45])\n",
    "        data =  np.loadtxt(d, usecols=(0))\n",
    "    return float(data)"
   ]
  },
  {
   "cell_type": "markdown",
   "metadata": {},
   "source": [
    "# Hydrogen bonds\n",
    "## Syringic acid - Water"
   ]
  },
  {
   "cell_type": "code",
   "execution_count": 11,
   "metadata": {},
   "outputs": [
    {
     "name": "stdout",
     "output_type": "stream",
     "text": [
      " 3 : 3.72 +/- 0.06    \n"
     ]
    }
   ],
   "source": [
    "for system in systems:\n",
    "    data_array =  np.zeros(3)\n",
    "    skip = False\n",
    "    for j in range(3):\n",
    "        file = f\"../results/hbonds/hbonds_12_{system}_run{j+1}.log\"\n",
    "        try:\n",
    "            data_array[j] = open_file(file)/5 # divide by 5 to get the number of hbonds per solute molecule\n",
    "        except:\n",
    "            skip = True\n",
    "            pass\n",
    "    if not skip:\n",
    "        data_mean = np.mean(data_array)\n",
    "        data_std = np.std(data_array)\n",
    "        print(f\" {system} : {data_mean:.2f} +/- {data_std:.2f}    \")\n",
    "    else:\n",
    "        print(f\" {system}    \")"
   ]
  },
  {
   "cell_type": "markdown",
   "metadata": {},
   "source": [
    "## Syringic acid - Hydrotrope"
   ]
  },
  {
   "cell_type": "code",
   "execution_count": 12,
   "metadata": {},
   "outputs": [
    {
     "name": "stdout",
     "output_type": "stream",
     "text": [
      " 3 : 1.13 +/- 0.02    \n"
     ]
    }
   ],
   "source": [
    "for system in systems:\n",
    "    data_array =  np.zeros(3)\n",
    "    skip = False\n",
    "    for j in range(3):\n",
    "        file = f\"../results/hbonds/hbonds_23_{system}_run{j+1}.log\"\n",
    "        try:\n",
    "            data_array[j] = open_file(file)/5 # divide by 5 to get the number of hbonds per solute molecule\n",
    "        except:\n",
    "            skip = True\n",
    "            pass\n",
    "    if not skip:\n",
    "        data_mean = np.mean(data_array)\n",
    "        data_std = np.std(data_array)\n",
    "        print(f\" {system} : {data_mean:.2f} +/- {data_std:.2f}    \")\n",
    "    else:\n",
    "        print(f\" {system}    \")"
   ]
  },
  {
   "cell_type": "markdown",
   "metadata": {},
   "source": [
    "# Coordination number \n",
    "## Syringic acid - Hydrotrope carbon atoms"
   ]
  },
  {
   "cell_type": "code",
   "execution_count": 24,
   "metadata": {},
   "outputs": [
    {
     "name": "stdout",
     "output_type": "stream",
     "text": [
      " 3 : 9.80 +/- 0.06    \n"
     ]
    }
   ],
   "source": [
    "rc = 0.65 # nm\n",
    "for j in systems:\n",
    "    CN = 0 \n",
    "    CN_std = 0\n",
    "    for i in [1, 2, 3, 4, 5, 6]:\n",
    "        try:\n",
    "            CN_ij = []\n",
    "            for run in range(3):\n",
    "                file = '../results/rdf_atoms/cn_SAC_C' + str(i) + '_' + str(system) + '_run' + str(run+1) + '.xvg'\n",
    "                r, CN_ij_run = np.loadtxt(file, comments=['#','@'], unpack=True)# Smoothing\n",
    "                CN_ij_run = CN_ij_run[r!=0]\n",
    "                r = r[r!=0]\n",
    "                CN_ij.append(CN_ij_run)\n",
    "            \n",
    "            CN_ij_mean = np.mean(np.array(CN_ij), axis=0)\n",
    "            CN_ij_std = np.std(np.array(CN_ij), axis=0)\n",
    "            index = r > rc\n",
    "            CN_Ci = np.min(CN_ij_mean[index])\n",
    "            CN_Ci_std = np.min(CN_ij_std[CN_ij_mean==CN_Ci])\n",
    "            CN  += CN_Ci\n",
    "            CN_std += CN_Ci_std**2\n",
    "            \n",
    "        except:\n",
    "            pass\n",
    "    CN_std **= 0.5\n",
    "    print(f\" {system} : {CN:.2f} +/- {CN_std:.2f}    \")"
   ]
  },
  {
   "cell_type": "markdown",
   "metadata": {},
   "source": [
    "## Syringic acid - Hydrotrope oxygen atoms"
   ]
  },
  {
   "cell_type": "code",
   "execution_count": 28,
   "metadata": {},
   "outputs": [
    {
     "name": "stdout",
     "output_type": "stream",
     "text": [
      " 3 : 9.59 +/- 0.05    \n"
     ]
    }
   ],
   "source": [
    "rc = 0.65 # nm\n",
    "for j in systems:\n",
    "    CN = 0 \n",
    "    CN_std = 0\n",
    "    for i in [1, 2]:\n",
    "        try:\n",
    "            CN_ij = []\n",
    "            for run in range(3):\n",
    "                file = '../results/rdf_atoms/cn_SAC_O' + str(i) + '_' + str(system) + '_run' + str(run+1) + '.xvg'\n",
    "                r, CN_ij_run = np.loadtxt(file, comments=['#','@'], unpack=True)# Smoothing\n",
    "                CN_ij_run = CN_ij_run[r!=0]\n",
    "                r = r[r!=0]\n",
    "                CN_ij.append(CN_ij_run)\n",
    "            \n",
    "            CN_ij_mean = np.mean(np.array(CN_ij), axis=0)\n",
    "            CN_ij_std = np.std(np.array(CN_ij), axis=0)\n",
    "            index = r > rc\n",
    "            CN_Ci = np.min(CN_ij_mean[index])\n",
    "            CN_Ci_std = np.min(CN_ij_std[CN_ij_mean==CN_Ci])\n",
    "            CN  += CN_Ci\n",
    "            CN_std += CN_Ci_std**2\n",
    "            \n",
    "        except:\n",
    "            pass\n",
    "    CN_std **= 0.5\n",
    "    print(f\" {system} : {CN:.2f} +/- {CN_std:.2f}    \")"
   ]
  },
  {
   "cell_type": "code",
   "execution_count": null,
   "metadata": {},
   "outputs": [],
   "source": []
  }
 ],
 "metadata": {
  "kernelspec": {
   "display_name": "sgtpy_custom",
   "language": "python",
   "name": "python3"
  },
  "language_info": {
   "codemirror_mode": {
    "name": "ipython",
    "version": 3
   },
   "file_extension": ".py",
   "mimetype": "text/x-python",
   "name": "python",
   "nbconvert_exporter": "python",
   "pygments_lexer": "ipython3",
   "version": "3.9.18"
  }
 },
 "nbformat": 4,
 "nbformat_minor": 2
}
