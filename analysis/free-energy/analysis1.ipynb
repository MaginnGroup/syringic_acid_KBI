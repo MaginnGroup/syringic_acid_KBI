{
 "cells": [
  {
   "cell_type": "code",
   "execution_count": null,
   "metadata": {},
   "outputs": [],
   "source": [
    "from alchemlyb.workflows import ABFE\n",
    "import os\n",
    "sys = '1' # Pure water\n",
    "dir = '/data/' + sys + '/xvg_files'\n",
    "# Load the data\n",
    "workflow = ABFE(software='GROMACS', dir=dir,\n",
    "                 prefix='prd', suffix='xvg', T=303.15, outdirectory='./')\n",
    "# Set the unit.\n",
    "workflow.update_units('kJ/mol')\n",
    "# Read the data\n",
    "workflow.read()\n",
    "# Decorrelate the data.\n",
    "workflow.preprocess(skiptime=10000, uncorr='dhdl', threshold=50)\n",
    "# Run the estimator\n",
    "workflow.estimate(estimators=(\"MBAR\", \"BAR\", \"TI\"))\n",
    "# Retrieve the result\n",
    "summary = workflow.generate_result()\n",
    "# Plot the overlap matrix\n",
    "workflow.plot_overlap_matrix(overlap='O_MBAR_' + sys + '.pdf')\n",
    "# Plot the dHdl for TI\n",
    "workflow.plot_ti_dhdl(dhdl_TI='dhdl_TI_' + sys + '.pdf')\n",
    "# Plot the dF states\n",
    "workflow.plot_dF_state(dF_state='dF_state_' + sys + '.pdf')\n",
    "# Convergence analysis\n",
    "workflow.check_convergence(10, dF_t='dF_t_' + sys + '.pdf')"
   ]
  },
  {
   "cell_type": "markdown",
   "metadata": {},
   "source": [
    "|                     | MBAR                | MBAR_Error          | BAR                 | BAR_Error | TI        | TI_Error |\n",
    "|---------------------|---------------------|---------------------|---------------------|-----------|-----------|----------|\n",
    "| States 0 -- 1       | 8.583132            | 0.017220            | 8.659141            | 0.019858  | 8.766747  | 0.010489 |\n",
    "| 1 -- 2              | 7.306195            | 0.010177            | 7.239576            | 0.012767  | 7.252513  | 0.007076 |\n",
    "| 2 -- 3              | 6.370425            | 0.007430            | 6.338531            | 0.010070  | 6.349625  | 0.005318 |\n",
    "| 3 -- 4              | 5.622446            | 0.006587            | 5.603410            | 0.008863  | 5.607804  | 0.004467 |\n",
    "| 4 -- 5              | 9.353219            | 0.012453            | 9.363273            | 0.016742  | 9.379682  | 0.008636 |\n",
    "| 5 -- 6              | 7.199085            | 0.012485            | 7.213520            | 0.015287  | 7.223213  | 0.008459 |\n",
    "| 6 -- 7              | 9.354692            | 0.021343            | 9.343931            | 0.024830  | 9.530918  | 0.014604 |\n",
    "| 7 -- 8              | 4.611654            | 0.013287            | 4.593476            | 0.016291  | 4.747504  | 0.011512 |\n",
    "| 8 -- 9              | 1.369036            | 0.008178            | 1.372153            | 0.011026  | 1.414684  | 0.009735 |\n",
    "| 9 -- 10             | 4.952421            | 0.006366            | 4.948587            | 0.008313  | 4.951375  | 0.008407 |\n",
    "| 10 -- 11            | 4.612152            | 0.007456            | 4.613260            | 0.009348  | 4.596741  | 0.009260 |\n",
    "| 11 -- 12            | 4.134256            | 0.009225            | 4.141827            | 0.011374  | 4.111922  | 0.010982 |\n",
    "| 12 -- 13            | 3.421623            | 0.010694            | 3.421733            | 0.013692  | 3.389944  | 0.013156 |\n",
    "| 13 -- 14            | 1.318034            | 0.006216            | 1.307009            | 0.008069  | 1.308735  | 0.007740 |\n",
    "| 14 -- 15            | 0.944263            | 0.007352            | 0.945530            | 0.009807  | 0.941273  | 0.009000 |\n",
    "| 15 -- 16            | 0.443752            | 0.009417            | 0.446254            | 0.012227  | 0.431107  | 0.010142 |\n",
    "| 16 -- 17            | -0.242870           | 0.012841            | -0.244028           | 0.015674  | -0.269658 | 0.011174 |\n",
    "| 17 -- 18            | -1.240764           | 0.019037            | -1.234644           | 0.021909  | -1.285426 | 0.011129 |\n",
    "| 18 -- 19            | -2.846363           | 0.032627            | -2.835541           | 0.034269  | -2.919241 | 0.011978 |\n",
    "| 19 -- 20            |-12.144552           | 0.104846            | -12.167279          | 0.108739  | -11.044468| 0.022610 |\n",
    "| 20 -- 21            | -11.280308          | 0.031273            | -11.319331          | 0.037300  | -10.868003| 0.013774 |\n",
    "| 21 -- 22            | -2.732760           | 0.005762            | -2.732610           | 0.007517  | -2.757265 | 0.003240 |\n",
    "| 22 -- 23            | -0.855469           | 0.004042            | -0.851704           | 0.004868  | -0.876713 | 0.002233 |\n",
    "| Stages coul         | 59.769884           | 0.061578            | 59.727010           | 0.062796  | 60.272689 | 0.037750 |\n",
    "| vdw                 | -11.516584          | 0.149911            | -11.560937          | 0.032195  |-10.289679 | 0.058724 |\n",
    "| TOTAL               | 48.253300           | 0.161925            | 48.166073           | 0.135035  | 49.983010 | 0.069811 |\n"
   ]
  }
 ],
 "metadata": {
  "kernelspec": {
   "display_name": "alchemical-new",
   "language": "python",
   "name": "python3"
  },
  "language_info": {
   "codemirror_mode": {
    "name": "ipython",
    "version": 3
   },
   "file_extension": ".py",
   "mimetype": "text/x-python",
   "name": "python",
   "nbconvert_exporter": "python",
   "pygments_lexer": "ipython3",
   "version": "3.11.8"
  }
 },
 "nbformat": 4,
 "nbformat_minor": 2
}
